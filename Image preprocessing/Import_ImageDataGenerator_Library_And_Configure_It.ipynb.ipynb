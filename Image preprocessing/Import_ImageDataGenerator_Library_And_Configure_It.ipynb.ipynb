{
  "nbformat": 4,
  "nbformat_minor": 0,
  "metadata": {
    "colab": {
      "provenance": []
    },
    "kernelspec": {
      "name": "python3",
      "display_name": "Python 3"
    },
    "language_info": {
      "name": "python"
    }
  },
  "cells": [
    {
      "cell_type": "markdown",
      "source": [
        "# **Image Preprocessing**"
      ],
      "metadata": {
        "id": "WE7A9kGNYl98"
      }
    },
    {
      "cell_type": "markdown",
      "source": [
        "**IBM Project Name: Real-Time Communication System Powered by AI for Specially Abled**\n",
        "\n",
        "TEAM ID: PNT2022TMID00980 "
      ],
      "metadata": {
        "id": "7fPJlFNKtWv3"
      }
    },
    {
      "cell_type": "code",
      "source": [
        "# Import necessary lib.\n",
        "\n",
        "from tensorflow.keras.preprocessing.image import ImageDataGenerator"
      ],
      "metadata": {
        "id": "xGAIIWmBT0-7"
      },
      "execution_count": 1,
      "outputs": []
    },
    {
      "cell_type": "code",
      "source": [
        "# Data augmentation on training variable\n",
        "\n",
        "train_datagen = ImageDataGenerator(rescale=1./255,zoom_range=0.2,horizontal_flip=True)"
      ],
      "metadata": {
        "id": "oq_SX22yY7in"
      },
      "execution_count": 2,
      "outputs": []
    },
    {
      "cell_type": "code",
      "source": [
        "# Data augmentation on testing variable\n",
        "\n",
        "test_datagen = ImageDataGenerator(rescale=1./255)"
      ],
      "metadata": {
        "id": "VyRGtfSvY84n"
      },
      "execution_count": 3,
      "outputs": []
    },
    {
      "cell_type": "code",
      "source": [
        "import tensorflow as tf\n",
        "import os\n",
        "from tensorflow.keras.models import Sequential\n",
        "from tensorflow.keras.layers import Dense, Conv2D, Flatten, Dropout, MaxPooling2D\n",
        "from tensorflow.keras.preprocessing.image import ImageDataGenerator\n",
        "import numpy as np\n",
        "import matplotlib.pyplot as plt\n",
        "import IPython.display as display\n",
        "from PIL import Image\n",
        "import pathlib"
      ],
      "metadata": {
        "id": "Oa3NChOXtSHA"
      },
      "execution_count": 4,
      "outputs": []
    }
  ]
}
